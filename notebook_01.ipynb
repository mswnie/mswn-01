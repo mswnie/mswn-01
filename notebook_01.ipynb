{
 "cells": [
  {
   "cell_type": "markdown",
   "metadata": {},
   "source": [
    "## New terms learned today\n",
    "\n",
    "### Forking\n",
    "* This is copying the content of an existing git hub repository onto another github repository on github. (*permission to edit copied repository is required from original owner of repository*)\n",
    "\n",
    "### Cloning\n",
    "\n",
    "* This is copying a github repository from github onto your local device\n",
    "\n",
    "## New commands used today\n",
    "\n",
    "### conda info --envs\n",
    "* Allows one to see the exisiting virtual environments installed on the local device (*an asterisk positioned next to an environment shows it the activated environment\n",
    "\n",
    "### conda deactivate\n",
    "* This deactivates the active virtual environment\n",
    "\n",
    "### conda activate learn-env\n",
    "* This activates **learn-env** virtual environment with the activate command\n",
    "\n",
    "### git clone \n",
    "* This is a git command that allows one to clone a repository onto their machine\n"
   ]
  },
  {
   "cell_type": "markdown",
   "metadata": {},
   "source": [
    "## How to upload (push) jupyter notebooks onto GitHub through the terminal\n",
    "\n",
    "1. Save your notebook in the directory/folder\n",
    "2. Open the terminal of the directory your notebook is saved in\n",
    "3. In the terminal, confirm the location of the notebook with the command **ls**\n",
    "4. Follow these  **git commands** to push the notebook onto Github\n",
    "\n",
    "#### git add (name of file.ipynb)\n",
    "\n",
    "#### git commit -m 'Initial commit'\n",
    "\n",
    "#### git push origin master/main\n",
    "\n"
   ]
  },
  {
   "cell_type": "code",
   "execution_count": null,
   "metadata": {},
   "outputs": [],
   "source": []
  }
 ],
 "metadata": {
  "kernelspec": {
   "display_name": "Python (learn env)",
   "language": "python",
   "name": "learn-env"
  },
  "language_info": {
   "codemirror_mode": {
    "name": "ipython",
    "version": 3
   },
   "file_extension": ".py",
   "mimetype": "text/x-python",
   "name": "python",
   "nbconvert_exporter": "python",
   "pygments_lexer": "ipython3",
   "version": "3.8.5"
  }
 },
 "nbformat": 4,
 "nbformat_minor": 4
}
